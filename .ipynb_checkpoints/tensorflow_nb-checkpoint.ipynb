{
 "cells": [
  {
   "cell_type": "code",
   "execution_count": 1,
   "metadata": {},
   "outputs": [
    {
     "name": "stderr",
     "output_type": "stream",
     "text": [
      "Using TensorFlow backend.\n"
     ]
    }
   ],
   "source": [
    "import boto3\n",
    "import numpy as np\n",
    "import os\n",
    "import pathlib\n",
    "import time\n",
    "import tensorflow as tf\n",
    "import random\n",
    "import shutil\n",
    "\n",
    "import sagemaker\n",
    "from sagemaker.amazon.amazon_estimator import get_image_uri\n",
    "from keras.preprocessing.image import img_to_array,load_img\n",
    "from sagemaker import get_execution_role\n",
    "from sklearn.model_selection import train_test_split\n",
    "from sagemaker.tensorflow import TensorFlow\n"
   ]
  },
  {
   "cell_type": "code",
   "execution_count": 2,
   "metadata": {},
   "outputs": [
    {
     "name": "stdout",
     "output_type": "stream",
     "text": [
      "Filesystem     1K-blocks     Used Available Use% Mounted on\n",
      "devtmpfs         2009192       64   2009128   1% /dev\n",
      "tmpfs            2019884        0   2019884   0% /dev/shm\n",
      "/dev/xvda1     113400460 82811724  30488488  74% /\n",
      "/dev/xvdf       15416264  2235212  12378236  16% /home/ec2-user/SageMaker\n"
     ]
    }
   ],
   "source": [
    "!df"
   ]
  },
  {
   "cell_type": "markdown",
   "metadata": {},
   "source": [
    "* Now we will download the dataset"
   ]
  },
  {
   "cell_type": "code",
   "execution_count": 5,
   "metadata": {},
   "outputs": [
    {
     "name": "stdout",
     "output_type": "stream",
     "text": [
      "Requirement already satisfied: kaggle in /home/ec2-user/anaconda3/envs/amazonei_tensorflow_p36/lib/python3.6/site-packages (1.5.8)\n",
      "Requirement already satisfied: certifi in /home/ec2-user/anaconda3/envs/amazonei_tensorflow_p36/lib/python3.6/site-packages (from kaggle) (2020.6.20)\n",
      "Requirement already satisfied: python-dateutil in /home/ec2-user/anaconda3/envs/amazonei_tensorflow_p36/lib/python3.6/site-packages (from kaggle) (2.8.1)\n",
      "Requirement already satisfied: slugify in /home/ec2-user/anaconda3/envs/amazonei_tensorflow_p36/lib/python3.6/site-packages (from kaggle) (0.0.1)\n",
      "Requirement already satisfied: urllib3<1.25,>=1.21.1 in /home/ec2-user/anaconda3/envs/amazonei_tensorflow_p36/lib/python3.6/site-packages (from kaggle) (1.24.3)\n",
      "Requirement already satisfied: six>=1.10 in /home/ec2-user/anaconda3/envs/amazonei_tensorflow_p36/lib/python3.6/site-packages (from kaggle) (1.14.0)\n",
      "Requirement already satisfied: python-slugify in /home/ec2-user/anaconda3/envs/amazonei_tensorflow_p36/lib/python3.6/site-packages (from kaggle) (4.0.1)\n",
      "Requirement already satisfied: requests in /home/ec2-user/anaconda3/envs/amazonei_tensorflow_p36/lib/python3.6/site-packages (from kaggle) (2.23.0)\n",
      "Requirement already satisfied: tqdm in /home/ec2-user/anaconda3/envs/amazonei_tensorflow_p36/lib/python3.6/site-packages (from kaggle) (4.44.1)\n",
      "Requirement already satisfied: text-unidecode>=1.3 in /home/ec2-user/anaconda3/envs/amazonei_tensorflow_p36/lib/python3.6/site-packages (from python-slugify->kaggle) (1.3)\n",
      "Requirement already satisfied: chardet<4,>=3.0.2 in /home/ec2-user/anaconda3/envs/amazonei_tensorflow_p36/lib/python3.6/site-packages (from requests->kaggle) (3.0.4)\n",
      "Requirement already satisfied: idna<3,>=2.5 in /home/ec2-user/anaconda3/envs/amazonei_tensorflow_p36/lib/python3.6/site-packages (from requests->kaggle) (2.9)\n",
      "\u001b[33mWARNING: You are using pip version 20.0.2; however, version 20.2.3 is available.\n",
      "You should consider upgrading via the '/home/ec2-user/anaconda3/envs/amazonei_tensorflow_p36/bin/python -m pip install --upgrade pip' command.\u001b[0m\n"
     ]
    }
   ],
   "source": [
    "# To download the dataset\n",
    "!pip install kaggle\n",
    "#!mkdir /home/ec2-user/.kaggle\n",
    "\n"
   ]
  },
  {
   "cell_type": "code",
   "execution_count": 6,
   "metadata": {},
   "outputs": [],
   "source": [
    "!mv kaggle.json /home/ec2-user/.kaggle   # That's where kaggle.json file is expected to be placed"
   ]
  },
  {
   "cell_type": "code",
   "execution_count": 7,
   "metadata": {},
   "outputs": [],
   "source": [
    "!chmod 600 /home/ec2-user/.kaggle/kaggle.json # so moving it there"
   ]
  },
  {
   "cell_type": "code",
   "execution_count": 8,
   "metadata": {},
   "outputs": [
    {
     "name": "stdout",
     "output_type": "stream",
     "text": [
      "Downloading breast-histopathology-images.zip to /home/ec2-user/SageMaker/cancer-det-custom-tensorflow/sagemaker-custommodel-cancer-detection\n",
      "100%|█████████████████████████████████████▉| 3.09G/3.10G [02:10<00:00, 26.9MB/s]\n",
      "100%|██████████████████████████████████████| 3.10G/3.10G [02:10<00:00, 25.5MB/s]\n"
     ]
    }
   ],
   "source": [
    "!kaggle datasets download paultimothymooney/breast-histopathology-images -d dataset -d data  # Downloading the dataset"
   ]
  },
  {
   "cell_type": "code",
   "execution_count": 6,
   "metadata": {},
   "outputs": [],
   "source": [
    "\n",
    "#!mkdir images\n",
    "#!unzip breast-histopathology-images.zip -d images\n",
    "#!mkdir images/0\n",
    "!mkdir images/1"
   ]
  },
  {
   "cell_type": "code",
   "execution_count": 8,
   "metadata": {},
   "outputs": [],
   "source": [
    "!rm breast-histopathology-images.zip"
   ]
  },
  {
   "cell_type": "markdown",
   "metadata": {},
   "source": [
    "#### Now we will get all images in the folders, 0 and 1"
   ]
  },
  {
   "cell_type": "code",
   "execution_count": 9,
   "metadata": {},
   "outputs": [],
   "source": [
    "for path,_,files in os.walk('images'):\n",
    "    for name in files:\n",
    "        filename=os.path.join(path,name)\n",
    "        if name.endswith('class0.png'):\n",
    "            destination_class='0'\n",
    "        if name.endswith('class1.png'):\n",
    "            destination_class='1'\n",
    "        if 'checkpoint' not in name:    \n",
    "            os.rename(filename,os.path.join('images',destination_class,name))    \n",
    "    "
   ]
  },
  {
   "cell_type": "markdown",
   "metadata": {},
   "source": [
    "### This is not working here, but worked in the terminal, so please try it out there"
   ]
  },
  {
   "cell_type": "code",
   "execution_count": 19,
   "metadata": {},
   "outputs": [
    {
     "name": "stdout",
     "output_type": "stream",
     "text": [
      "/bin/sh: -c: line 0: syntax error near unexpected token `('\n",
      "/bin/sh: -c: line 0: `rm -rf !(\"0\"|\"1\")'\n"
     ]
    }
   ],
   "source": [
    "# Now we will delete all other folders except 0 and 1\n",
    "!shopt -s extglob\n",
    "!cd images\n",
    "!rm -rf !(\"0\"|\"1\")\n"
   ]
  },
  {
   "cell_type": "markdown",
   "metadata": {},
   "source": [
    "# Converting images to TFRecord"
   ]
  },
  {
   "cell_type": "code",
   "execution_count": 3,
   "metadata": {},
   "outputs": [
    {
     "data": {
      "text/plain": [
       "PosixPath('/home/ec2-user/SageMaker/cancer-det-custom-tensorflow/sagemaker-custommodel-cancer-detection/images')"
      ]
     },
     "execution_count": 3,
     "metadata": {},
     "output_type": "execute_result"
    }
   ],
   "source": [
    "data_root=pathlib.Path(os.path.join(os.getcwd(),'images'))\n",
    "data_root"
   ]
  },
  {
   "cell_type": "code",
   "execution_count": 4,
   "metadata": {},
   "outputs": [],
   "source": [
    "all_images_paths=list(data_root.glob('*/*'))\n",
    "all_images_paths=[str(path) for path in all_images_paths]\n",
    "random.shuffle(all_images_paths)\n",
    "images_count=len(all_images_paths)"
   ]
  },
  {
   "cell_type": "code",
   "execution_count": 7,
   "metadata": {},
   "outputs": [
    {
     "data": {
      "text/plain": [
       "277524"
      ]
     },
     "execution_count": 7,
     "metadata": {},
     "output_type": "execute_result"
    }
   ],
   "source": [
    "images_count"
   ]
  },
  {
   "cell_type": "markdown",
   "metadata": {},
   "source": [
    "* Let's look how our images_paths look"
   ]
  },
  {
   "cell_type": "code",
   "execution_count": 32,
   "metadata": {},
   "outputs": [
    {
     "data": {
      "text/plain": [
       "['/home/ec2-user/SageMaker/cancer-det-custom-tensorflow/sagemaker-custommodel-cancer-detection/images/0/10302_idx5_x1951_y2301_class0.png',\n",
       " '/home/ec2-user/SageMaker/cancer-det-custom-tensorflow/sagemaker-custommodel-cancer-detection/images/1/9077_idx5_x1151_y1851_class1.png',\n",
       " '/home/ec2-user/SageMaker/cancer-det-custom-tensorflow/sagemaker-custommodel-cancer-detection/images/0/10282_idx5_x1701_y901_class0.png',\n",
       " '/home/ec2-user/SageMaker/cancer-det-custom-tensorflow/sagemaker-custommodel-cancer-detection/images/1/12934_idx5_x2051_y801_class1.png',\n",
       " '/home/ec2-user/SageMaker/cancer-det-custom-tensorflow/sagemaker-custommodel-cancer-detection/images/0/10282_idx5_x351_y951_class0.png',\n",
       " '/home/ec2-user/SageMaker/cancer-det-custom-tensorflow/sagemaker-custommodel-cancer-detection/images/0/14211_idx5_x1051_y251_class0.png',\n",
       " '/home/ec2-user/SageMaker/cancer-det-custom-tensorflow/sagemaker-custommodel-cancer-detection/images/1/9260_idx5_x1001_y251_class1.png',\n",
       " '/home/ec2-user/SageMaker/cancer-det-custom-tensorflow/sagemaker-custommodel-cancer-detection/images/0/12951_idx5_x2401_y901_class0.png',\n",
       " '/home/ec2-user/SageMaker/cancer-det-custom-tensorflow/sagemaker-custommodel-cancer-detection/images/1/9077_idx5_x2301_y1601_class1.png',\n",
       " '/home/ec2-user/SageMaker/cancer-det-custom-tensorflow/sagemaker-custommodel-cancer-detection/images/0/10295_idx5_x601_y351_class0.png']"
      ]
     },
     "execution_count": 32,
     "metadata": {},
     "output_type": "execute_result"
    }
   ],
   "source": [
    "all_images_paths[:10]"
   ]
  },
  {
   "cell_type": "markdown",
   "metadata": {},
   "source": [
    "### Getting the images labels"
   ]
  },
  {
   "cell_type": "code",
   "execution_count": 5,
   "metadata": {},
   "outputs": [
    {
     "data": {
      "text/plain": [
       "[1, 0, 1, 1, 0, 1, 0, 0, 0, 1, 0, 0, 1, 0, 0]"
      ]
     },
     "execution_count": 5,
     "metadata": {},
     "output_type": "execute_result"
    }
   ],
   "source": [
    "images_labels=[int(pathlib.Path(path).parent.name) for path in all_images_paths]\n",
    "images_labels[:15]"
   ]
  },
  {
   "cell_type": "markdown",
   "metadata": {},
   "source": [
    "### Now we will get the ndarray ,and tensorflow expects the channels to be at the last"
   ]
  },
  {
   "cell_type": "code",
   "execution_count": 6,
   "metadata": {},
   "outputs": [
    {
     "ename": "MemoryError",
     "evalue": "Unable to allocate 1.94 GiB for an array with shape (277524, 50, 50, 3) and data type uint8",
     "output_type": "error",
     "traceback": [
      "\u001b[0;31m---------------------------------------------------------------------------\u001b[0m",
      "\u001b[0;31mMemoryError\u001b[0m                               Traceback (most recent call last)",
      "\u001b[0;32m<ipython-input-6-9b81d7406311>\u001b[0m in \u001b[0;36m<module>\u001b[0;34m\u001b[0m\n\u001b[1;32m      2\u001b[0m \u001b[0mimage_width\u001b[0m\u001b[0;34m=\u001b[0m\u001b[0;36m50\u001b[0m\u001b[0;34m\u001b[0m\u001b[0;34m\u001b[0m\u001b[0m\n\u001b[1;32m      3\u001b[0m \u001b[0mcolor_channels\u001b[0m\u001b[0;34m=\u001b[0m\u001b[0;36m3\u001b[0m\u001b[0;34m\u001b[0m\u001b[0;34m\u001b[0m\u001b[0m\n\u001b[0;32m----> 4\u001b[0;31m \u001b[0mdataset\u001b[0m\u001b[0;34m=\u001b[0m\u001b[0mnp\u001b[0m\u001b[0;34m.\u001b[0m\u001b[0mndarray\u001b[0m\u001b[0;34m(\u001b[0m\u001b[0mshape\u001b[0m\u001b[0;34m=\u001b[0m\u001b[0;34m(\u001b[0m\u001b[0mimages_count\u001b[0m\u001b[0;34m,\u001b[0m\u001b[0mimage_height\u001b[0m\u001b[0;34m,\u001b[0m\u001b[0mimage_width\u001b[0m\u001b[0;34m,\u001b[0m\u001b[0mcolor_channels\u001b[0m\u001b[0;34m)\u001b[0m\u001b[0;34m,\u001b[0m\u001b[0mdtype\u001b[0m\u001b[0;34m=\u001b[0m\u001b[0mnp\u001b[0m\u001b[0;34m.\u001b[0m\u001b[0muint8\u001b[0m\u001b[0;34m)\u001b[0m\u001b[0;34m\u001b[0m\u001b[0;34m\u001b[0m\u001b[0m\n\u001b[0m",
      "\u001b[0;31mMemoryError\u001b[0m: Unable to allocate 1.94 GiB for an array with shape (277524, 50, 50, 3) and data type uint8"
     ]
    }
   ],
   "source": [
    "image_height=50\n",
    "image_width=50\n",
    "color_channels=3\n",
    "dataset=np.ndarray(shape=(images_count,image_height,image_width,color_channels),dtype=np.uint8)"
   ]
  },
  {
   "cell_type": "markdown",
   "metadata": {},
   "source": [
    "## Function to generate arrays dataset from images paths"
   ]
  },
  {
   "cell_type": "code",
   "execution_count": 17,
   "metadata": {},
   "outputs": [],
   "source": [
    "def img_dataset_to_arrays(images_paths,desired_img_height,desired_img_width,color_channels):\n",
    "    \n",
    "    images_count=len(images_paths)\n",
    "    data=np.ndarray(shape=(images_count,desired_img_height,desired_img_width,color_channels),dtype=np.uint8)\n",
    "    \n",
    "    i=0\n",
    "    for file in images_paths:\n",
    "        img=load_img(file)    # load_img from keras.preprocessing.image\n",
    "        img=img.resize((desired_img_height,desired_img_width))\n",
    "        x=img_to_array(img,'channels_last')      # img_to_array from keras.preprocessing.image\n",
    "        data[i]=x\n",
    "        i+=1\n",
    "        \n",
    "        if i%1000 ==0:\n",
    "            print('%d converted to array'%i)\n",
    "    print('Shape of dataset is :{}'.format(data.shape))\n",
    "    return data\n",
    "        "
   ]
  },
  {
   "cell_type": "code",
   "execution_count": 18,
   "metadata": {},
   "outputs": [
    {
     "ename": "MemoryError",
     "evalue": "Unable to allocate 1.94 GiB for an array with shape (277524, 50, 50, 3) and data type uint8",
     "output_type": "error",
     "traceback": [
      "\u001b[0;31m---------------------------------------------------------------------------\u001b[0m",
      "\u001b[0;31mMemoryError\u001b[0m                               Traceback (most recent call last)",
      "\u001b[0;32m<ipython-input-18-b143a572bbba>\u001b[0m in \u001b[0;36m<module>\u001b[0;34m\u001b[0m\n\u001b[0;32m----> 1\u001b[0;31m \u001b[0mdataset2\u001b[0m\u001b[0;34m=\u001b[0m\u001b[0mimg_dataset_to_arrays\u001b[0m\u001b[0;34m(\u001b[0m\u001b[0mall_images_paths\u001b[0m\u001b[0;34m,\u001b[0m\u001b[0;36m50\u001b[0m\u001b[0;34m,\u001b[0m\u001b[0;36m50\u001b[0m\u001b[0;34m,\u001b[0m\u001b[0;36m3\u001b[0m\u001b[0;34m)\u001b[0m\u001b[0;34m\u001b[0m\u001b[0;34m\u001b[0m\u001b[0m\n\u001b[0m",
      "\u001b[0;32m<ipython-input-17-66c3976d1e17>\u001b[0m in \u001b[0;36mimg_dataset_to_arrays\u001b[0;34m(images_paths, desired_img_height, desired_img_width, color_channels)\u001b[0m\n\u001b[1;32m      2\u001b[0m \u001b[0;34m\u001b[0m\u001b[0m\n\u001b[1;32m      3\u001b[0m     \u001b[0mimages_count\u001b[0m\u001b[0;34m=\u001b[0m\u001b[0mlen\u001b[0m\u001b[0;34m(\u001b[0m\u001b[0mimages_paths\u001b[0m\u001b[0;34m)\u001b[0m\u001b[0;34m\u001b[0m\u001b[0;34m\u001b[0m\u001b[0m\n\u001b[0;32m----> 4\u001b[0;31m     \u001b[0mdata\u001b[0m\u001b[0;34m=\u001b[0m\u001b[0mnp\u001b[0m\u001b[0;34m.\u001b[0m\u001b[0mndarray\u001b[0m\u001b[0;34m(\u001b[0m\u001b[0mshape\u001b[0m\u001b[0;34m=\u001b[0m\u001b[0;34m(\u001b[0m\u001b[0mimages_count\u001b[0m\u001b[0;34m,\u001b[0m\u001b[0mdesired_img_height\u001b[0m\u001b[0;34m,\u001b[0m\u001b[0mdesired_img_width\u001b[0m\u001b[0;34m,\u001b[0m\u001b[0mcolor_channels\u001b[0m\u001b[0;34m)\u001b[0m\u001b[0;34m,\u001b[0m\u001b[0mdtype\u001b[0m\u001b[0;34m=\u001b[0m\u001b[0mnp\u001b[0m\u001b[0;34m.\u001b[0m\u001b[0muint8\u001b[0m\u001b[0;34m)\u001b[0m\u001b[0;34m\u001b[0m\u001b[0;34m\u001b[0m\u001b[0m\n\u001b[0m\u001b[1;32m      5\u001b[0m \u001b[0;34m\u001b[0m\u001b[0m\n\u001b[1;32m      6\u001b[0m     \u001b[0mi\u001b[0m\u001b[0;34m=\u001b[0m\u001b[0;36m0\u001b[0m\u001b[0;34m\u001b[0m\u001b[0;34m\u001b[0m\u001b[0m\n",
      "\u001b[0;31mMemoryError\u001b[0m: Unable to allocate 1.94 GiB for an array with shape (277524, 50, 50, 3) and data type uint8"
     ]
    }
   ],
   "source": [
    "dataset2=img_dataset_to_arrays(all_images_paths,50,50,3)"
   ]
  },
  {
   "cell_type": "code",
   "execution_count": 10,
   "metadata": {},
   "outputs": [
    {
     "name": "stdout",
     "output_type": "stream",
     "text": [
      "%d images to array 500\n",
      "%d images to array 1000\n",
      "%d images to array 1500\n",
      "%d images to array 2000\n",
      "%d images to array 2500\n",
      "%d images to array 3000\n",
      "%d images to array 3500\n",
      "%d images to array 4000\n",
      "%d images to array 4500\n",
      "%d images to array 5000\n",
      "%d images to array 5500\n",
      "%d images to array 6000\n",
      "%d images to array 6500\n",
      "%d images to array 7000\n",
      "%d images to array 7500\n",
      "%d images to array 8000\n",
      "%d images to array 8500\n",
      "%d images to array 9000\n",
      "%d images to array 9500\n",
      "%d images to array 10000\n",
      "%d images to array 10500\n",
      "%d images to array 11000\n",
      "%d images to array 11500\n",
      "%d images to array 12000\n",
      "%d images to array 12500\n",
      "%d images to array 13000\n",
      "%d images to array 13500\n",
      "%d images to array 14000\n",
      "%d images to array 14500\n",
      "%d images to array 15000\n",
      "%d images to array 15500\n",
      "%d images to array 16000\n",
      "%d images to array 16500\n",
      "%d images to array 17000\n",
      "%d images to array 17500\n",
      "%d images to array 18000\n",
      "%d images to array 18500\n",
      "%d images to array 19000\n",
      "%d images to array 19500\n",
      "%d images to array 20000\n",
      "%d images to array 20500\n",
      "%d images to array 21000\n",
      "%d images to array 21500\n",
      "%d images to array 22000\n",
      "%d images to array 22500\n",
      "%d images to array 23000\n",
      "%d images to array 23500\n",
      "%d images to array 24000\n",
      "%d images to array 24500\n",
      "%d images to array 25000\n",
      "%d images to array 25500\n",
      "%d images to array 26000\n",
      "%d images to array 26500\n",
      "%d images to array 27000\n",
      "%d images to array 27500\n",
      "%d images to array 28000\n",
      "%d images to array 28500\n",
      "%d images to array 29000\n",
      "%d images to array 29500\n",
      "%d images to array 30000\n",
      "%d images to array 30500\n",
      "%d images to array 31000\n",
      "%d images to array 31500\n",
      "%d images to array 32000\n",
      "%d images to array 32500\n",
      "%d images to array 33000\n",
      "%d images to array 33500\n",
      "%d images to array 34000\n",
      "%d images to array 34500\n",
      "%d images to array 35000\n",
      "%d images to array 35500\n",
      "%d images to array 36000\n",
      "%d images to array 36500\n",
      "%d images to array 37000\n",
      "%d images to array 37500\n",
      "%d images to array 38000\n",
      "%d images to array 38500\n",
      "%d images to array 39000\n",
      "%d images to array 39500\n",
      "%d images to array 40000\n",
      "%d images to array 40500\n",
      "%d images to array 41000\n",
      "%d images to array 41500\n",
      "%d images to array 42000\n",
      "%d images to array 42500\n",
      "%d images to array 43000\n",
      "%d images to array 43500\n",
      "%d images to array 44000\n",
      "%d images to array 44500\n",
      "%d images to array 45000\n",
      "%d images to array 45500\n",
      "%d images to array 46000\n",
      "%d images to array 46500\n",
      "%d images to array 47000\n",
      "%d images to array 47500\n",
      "%d images to array 48000\n",
      "%d images to array 48500\n",
      "%d images to array 49000\n",
      "%d images to array 49500\n",
      "%d images to array 50000\n",
      "%d images to array 50500\n",
      "%d images to array 51000\n",
      "%d images to array 51500\n",
      "%d images to array 52000\n",
      "%d images to array 52500\n",
      "%d images to array 53000\n",
      "%d images to array 53500\n",
      "%d images to array 54000\n",
      "%d images to array 54500\n",
      "%d images to array 55000\n",
      "%d images to array 55500\n",
      "%d images to array 56000\n",
      "%d images to array 56500\n",
      "%d images to array 57000\n",
      "%d images to array 57500\n",
      "%d images to array 58000\n",
      "%d images to array 58500\n",
      "%d images to array 59000\n",
      "%d images to array 59500\n",
      "%d images to array 60000\n",
      "%d images to array 60500\n",
      "%d images to array 61000\n",
      "%d images to array 61500\n",
      "%d images to array 62000\n",
      "%d images to array 62500\n",
      "%d images to array 63000\n",
      "%d images to array 63500\n",
      "%d images to array 64000\n",
      "%d images to array 64500\n",
      "%d images to array 65000\n",
      "%d images to array 65500\n",
      "%d images to array 66000\n",
      "%d images to array 66500\n",
      "%d images to array 67000\n",
      "%d images to array 67500\n",
      "%d images to array 68000\n",
      "%d images to array 68500\n",
      "%d images to array 69000\n",
      "%d images to array 69500\n",
      "%d images to array 70000\n",
      "%d images to array 70500\n",
      "%d images to array 71000\n",
      "%d images to array 71500\n",
      "%d images to array 72000\n",
      "%d images to array 72500\n",
      "%d images to array 73000\n",
      "%d images to array 73500\n",
      "%d images to array 74000\n",
      "%d images to array 74500\n",
      "%d images to array 75000\n",
      "%d images to array 75500\n",
      "%d images to array 76000\n",
      "%d images to array 76500\n",
      "%d images to array 77000\n",
      "%d images to array 77500\n",
      "%d images to array 78000\n",
      "%d images to array 78500\n",
      "%d images to array 79000\n",
      "%d images to array 79500\n",
      "%d images to array 80000\n",
      "%d images to array 80500\n",
      "%d images to array 81000\n",
      "%d images to array 81500\n",
      "%d images to array 82000\n",
      "%d images to array 82500\n",
      "%d images to array 83000\n",
      "%d images to array 83500\n",
      "%d images to array 84000\n",
      "%d images to array 84500\n",
      "%d images to array 85000\n",
      "%d images to array 85500\n",
      "%d images to array 86000\n",
      "%d images to array 86500\n",
      "%d images to array 87000\n",
      "%d images to array 87500\n",
      "%d images to array 88000\n",
      "%d images to array 88500\n",
      "%d images to array 89000\n",
      "%d images to array 89500\n",
      "%d images to array 90000\n",
      "%d images to array 90500\n",
      "%d images to array 91000\n",
      "%d images to array 91500\n",
      "%d images to array 92000\n",
      "%d images to array 92500\n",
      "%d images to array 93000\n",
      "%d images to array 93500\n",
      "%d images to array 94000\n",
      "%d images to array 94500\n",
      "%d images to array 95000\n",
      "%d images to array 95500\n",
      "%d images to array 96000\n",
      "%d images to array 96500\n",
      "%d images to array 97000\n",
      "%d images to array 97500\n",
      "%d images to array 98000\n",
      "%d images to array 98500\n",
      "%d images to array 99000\n",
      "%d images to array 99500\n",
      "%d images to array 100000\n",
      "%d images to array 100500\n",
      "%d images to array 101000\n",
      "%d images to array 101500\n",
      "%d images to array 102000\n",
      "%d images to array 102500\n",
      "%d images to array 103000\n",
      "%d images to array 103500\n",
      "%d images to array 104000\n",
      "%d images to array 104500\n",
      "%d images to array 105000\n",
      "%d images to array 105500\n",
      "%d images to array 106000\n",
      "%d images to array 106500\n",
      "%d images to array 107000\n",
      "%d images to array 107500\n",
      "%d images to array 108000\n",
      "%d images to array 108500\n",
      "%d images to array 109000\n",
      "%d images to array 109500\n",
      "%d images to array 110000\n",
      "%d images to array 110500\n",
      "%d images to array 111000\n",
      "%d images to array 111500\n",
      "%d images to array 112000\n",
      "%d images to array 112500\n",
      "%d images to array 113000\n",
      "%d images to array 113500\n",
      "%d images to array 114000\n",
      "%d images to array 114500\n",
      "%d images to array 115000\n",
      "%d images to array 115500\n",
      "%d images to array 116000\n",
      "%d images to array 116500\n",
      "%d images to array 117000\n",
      "%d images to array 117500\n",
      "%d images to array 118000\n",
      "%d images to array 118500\n",
      "%d images to array 119000\n",
      "%d images to array 119500\n",
      "%d images to array 120000\n",
      "%d images to array 120500\n",
      "%d images to array 121000\n",
      "%d images to array 121500\n",
      "%d images to array 122000\n",
      "%d images to array 122500\n",
      "%d images to array 123000\n",
      "%d images to array 123500\n",
      "%d images to array 124000\n",
      "%d images to array 124500\n",
      "%d images to array 125000\n",
      "%d images to array 125500\n",
      "%d images to array 126000\n",
      "%d images to array 126500\n",
      "%d images to array 127000\n",
      "%d images to array 127500\n",
      "%d images to array 128000\n",
      "%d images to array 128500\n",
      "%d images to array 129000\n",
      "%d images to array 129500\n",
      "%d images to array 130000\n",
      "%d images to array 130500\n",
      "%d images to array 131000\n",
      "%d images to array 131500\n",
      "%d images to array 132000\n",
      "%d images to array 132500\n",
      "%d images to array 133000\n",
      "%d images to array 133500\n",
      "%d images to array 134000\n",
      "%d images to array 134500\n",
      "%d images to array 135000\n",
      "%d images to array 135500\n",
      "%d images to array 136000\n",
      "%d images to array 136500\n",
      "%d images to array 137000\n",
      "%d images to array 137500\n",
      "%d images to array 138000\n",
      "%d images to array 138500\n",
      "%d images to array 139000\n",
      "%d images to array 139500\n",
      "%d images to array 140000\n",
      "%d images to array 140500\n",
      "%d images to array 141000\n",
      "%d images to array 141500\n",
      "%d images to array 142000\n",
      "%d images to array 142500\n",
      "%d images to array 143000\n",
      "%d images to array 143500\n",
      "%d images to array 144000\n",
      "%d images to array 144500\n",
      "%d images to array 145000\n",
      "%d images to array 145500\n",
      "%d images to array 146000\n",
      "%d images to array 146500\n",
      "%d images to array 147000\n",
      "%d images to array 147500\n",
      "%d images to array 148000\n",
      "%d images to array 148500\n",
      "%d images to array 149000\n",
      "%d images to array 149500\n",
      "%d images to array 150000\n",
      "%d images to array 150500\n",
      "%d images to array 151000\n",
      "%d images to array 151500\n",
      "%d images to array 152000\n",
      "%d images to array 152500\n",
      "%d images to array 153000\n",
      "%d images to array 153500\n",
      "%d images to array 154000\n",
      "%d images to array 154500\n",
      "%d images to array 155000\n",
      "%d images to array 155500\n",
      "%d images to array 156000\n",
      "%d images to array 156500\n",
      "%d images to array 157000\n",
      "%d images to array 157500\n",
      "%d images to array 158000\n",
      "%d images to array 158500\n",
      "%d images to array 159000\n",
      "%d images to array 159500\n",
      "%d images to array 160000\n",
      "%d images to array 160500\n",
      "%d images to array 161000\n",
      "%d images to array 161500\n",
      "%d images to array 162000\n",
      "%d images to array 162500\n",
      "%d images to array 163000\n",
      "%d images to array 163500\n",
      "%d images to array 164000\n",
      "%d images to array 164500\n",
      "%d images to array 165000\n",
      "%d images to array 165500\n",
      "%d images to array 166000\n",
      "%d images to array 166500\n",
      "%d images to array 167000\n",
      "%d images to array 167500\n",
      "%d images to array 168000\n",
      "%d images to array 168500\n",
      "%d images to array 169000\n",
      "%d images to array 169500\n",
      "%d images to array 170000\n",
      "%d images to array 170500\n",
      "%d images to array 171000\n",
      "%d images to array 171500\n",
      "%d images to array 172000\n",
      "%d images to array 172500\n",
      "%d images to array 173000\n",
      "%d images to array 173500\n",
      "%d images to array 174000\n",
      "%d images to array 174500\n",
      "%d images to array 175000\n",
      "%d images to array 175500\n",
      "%d images to array 176000\n",
      "%d images to array 176500\n",
      "%d images to array 177000\n",
      "%d images to array 177500\n",
      "%d images to array 178000\n",
      "%d images to array 178500\n",
      "%d images to array 179000\n",
      "%d images to array 179500\n",
      "%d images to array 180000\n",
      "%d images to array 180500\n",
      "%d images to array 181000\n",
      "%d images to array 181500\n",
      "%d images to array 182000\n",
      "%d images to array 182500\n",
      "%d images to array 183000\n",
      "%d images to array 183500\n",
      "%d images to array 184000\n",
      "%d images to array 184500\n",
      "%d images to array 185000\n",
      "%d images to array 185500\n",
      "%d images to array 186000\n",
      "%d images to array 186500\n",
      "%d images to array 187000\n",
      "%d images to array 187500\n",
      "%d images to array 188000\n",
      "%d images to array 188500\n",
      "%d images to array 189000\n",
      "%d images to array 189500\n",
      "%d images to array 190000\n",
      "%d images to array 190500\n",
      "%d images to array 191000\n",
      "%d images to array 191500\n",
      "%d images to array 192000\n",
      "%d images to array 192500\n",
      "%d images to array 193000\n",
      "%d images to array 193500\n",
      "%d images to array 194000\n",
      "%d images to array 194500\n",
      "%d images to array 195000\n",
      "%d images to array 195500\n",
      "%d images to array 196000\n",
      "%d images to array 196500\n",
      "%d images to array 197000\n",
      "%d images to array 197500\n",
      "%d images to array 198000\n",
      "%d images to array 198500\n",
      "%d images to array 199000\n",
      "%d images to array 199500\n",
      "%d images to array 200000\n",
      "%d images to array 200500\n",
      "%d images to array 201000\n",
      "%d images to array 201500\n",
      "%d images to array 202000\n",
      "%d images to array 202500\n",
      "%d images to array 203000\n",
      "%d images to array 203500\n",
      "%d images to array 204000\n",
      "%d images to array 204500\n",
      "%d images to array 205000\n",
      "%d images to array 205500\n",
      "%d images to array 206000\n",
      "%d images to array 206500\n",
      "%d images to array 207000\n",
      "%d images to array 207500\n",
      "%d images to array 208000\n",
      "%d images to array 208500\n",
      "%d images to array 209000\n",
      "%d images to array 209500\n",
      "%d images to array 210000\n",
      "%d images to array 210500\n",
      "%d images to array 211000\n",
      "%d images to array 211500\n",
      "%d images to array 212000\n",
      "%d images to array 212500\n",
      "%d images to array 213000\n",
      "%d images to array 213500\n",
      "%d images to array 214000\n",
      "%d images to array 214500\n",
      "%d images to array 215000\n",
      "%d images to array 215500\n",
      "%d images to array 216000\n",
      "%d images to array 216500\n",
      "%d images to array 217000\n",
      "%d images to array 217500\n",
      "%d images to array 218000\n",
      "%d images to array 218500\n",
      "%d images to array 219000\n",
      "%d images to array 219500\n",
      "%d images to array 220000\n",
      "%d images to array 220500\n",
      "%d images to array 221000\n",
      "%d images to array 221500\n",
      "%d images to array 222000\n",
      "%d images to array 222500\n",
      "%d images to array 223000\n",
      "%d images to array 223500\n",
      "%d images to array 224000\n",
      "%d images to array 224500\n",
      "%d images to array 225000\n",
      "%d images to array 225500\n",
      "%d images to array 226000\n",
      "%d images to array 226500\n",
      "%d images to array 227000\n",
      "%d images to array 227500\n",
      "%d images to array 228000\n",
      "%d images to array 228500\n",
      "%d images to array 229000\n",
      "%d images to array 229500\n",
      "%d images to array 230000\n",
      "%d images to array 230500\n",
      "%d images to array 231000\n",
      "%d images to array 231500\n",
      "%d images to array 232000\n",
      "%d images to array 232500\n",
      "%d images to array 233000\n",
      "%d images to array 233500\n",
      "%d images to array 234000\n",
      "%d images to array 234500\n",
      "%d images to array 235000\n",
      "%d images to array 235500\n",
      "%d images to array 236000\n",
      "%d images to array 236500\n",
      "%d images to array 237000\n",
      "%d images to array 237500\n",
      "%d images to array 238000\n",
      "%d images to array 238500\n",
      "%d images to array 239000\n",
      "%d images to array 239500\n",
      "%d images to array 240000\n",
      "%d images to array 240500\n",
      "%d images to array 241000\n",
      "%d images to array 241500\n",
      "%d images to array 242000\n",
      "%d images to array 242500\n",
      "%d images to array 243000\n",
      "%d images to array 243500\n",
      "%d images to array 244000\n",
      "%d images to array 244500\n",
      "%d images to array 245000\n",
      "%d images to array 245500\n",
      "%d images to array 246000\n",
      "%d images to array 246500\n",
      "%d images to array 247000\n",
      "%d images to array 247500\n",
      "%d images to array 248000\n",
      "%d images to array 248500\n",
      "%d images to array 249000\n",
      "%d images to array 249500\n",
      "%d images to array 250000\n",
      "%d images to array 250500\n",
      "%d images to array 251000\n",
      "%d images to array 251500\n",
      "%d images to array 252000\n",
      "%d images to array 252500\n",
      "%d images to array 253000\n",
      "%d images to array 253500\n",
      "%d images to array 254000\n",
      "%d images to array 254500\n",
      "%d images to array 255000\n",
      "%d images to array 255500\n",
      "%d images to array 256000\n",
      "%d images to array 256500\n",
      "%d images to array 257000\n",
      "%d images to array 257500\n",
      "%d images to array 258000\n",
      "%d images to array 258500\n",
      "%d images to array 259000\n",
      "%d images to array 259500\n",
      "%d images to array 260000\n",
      "%d images to array 260500\n",
      "%d images to array 261000\n",
      "%d images to array 261500\n",
      "%d images to array 262000\n",
      "%d images to array 262500\n",
      "%d images to array 263000\n",
      "%d images to array 263500\n",
      "%d images to array 264000\n",
      "%d images to array 264500\n",
      "%d images to array 265000\n",
      "%d images to array 265500\n",
      "%d images to array 266000\n",
      "%d images to array 266500\n",
      "%d images to array 267000\n",
      "%d images to array 267500\n",
      "%d images to array 268000\n",
      "%d images to array 268500\n",
      "%d images to array 269000\n",
      "%d images to array 269500\n",
      "%d images to array 270000\n",
      "%d images to array 270500\n",
      "%d images to array 271000\n",
      "%d images to array 271500\n",
      "%d images to array 272000\n",
      "%d images to array 272500\n",
      "%d images to array 273000\n",
      "%d images to array 273500\n",
      "%d images to array 274000\n",
      "%d images to array 274500\n",
      "%d images to array 275000\n",
      "%d images to array 275500\n",
      "%d images to array 276000\n",
      "%d images to array 276500\n",
      "%d images to array 277000\n",
      "%d images to array 277500\n",
      "Converted all images to array\n",
      "dataset shape is:  (277524, 50, 50, 3)\n"
     ]
    }
   ],
   "source": [
    "i=0\n",
    "for file in all_images_paths:\n",
    "    img=load_img(file)\n",
    "    img=img.resize((image_width,image_height))\n",
    "    x=img_to_array(img,'channels_last')\n",
    "    dataset[i]=x\n",
    "    i+=1\n",
    "    \n",
    "    if i%500==0:\n",
    "        print('%d images to array',i)\n",
    "print('Converted all images to array')\n",
    "print('dataset shape is:  {}'.format(dataset.shape))\n",
    "  "
   ]
  },
  {
   "cell_type": "code",
   "execution_count": 8,
   "metadata": {},
   "outputs": [
    {
     "ename": "NameError",
     "evalue": "name 'dataset' is not defined",
     "output_type": "error",
     "traceback": [
      "\u001b[0;31m---------------------------------------------------------------------------\u001b[0m",
      "\u001b[0;31mNameError\u001b[0m                                 Traceback (most recent call last)",
      "\u001b[0;32m<ipython-input-8-654c63c66bb6>\u001b[0m in \u001b[0;36m<module>\u001b[0;34m\u001b[0m\n\u001b[0;32m----> 1\u001b[0;31m \u001b[0mX_train\u001b[0m\u001b[0;34m,\u001b[0m\u001b[0mX_test\u001b[0m\u001b[0;34m,\u001b[0m\u001b[0my_train\u001b[0m\u001b[0;34m,\u001b[0m\u001b[0my_test\u001b[0m\u001b[0;34m=\u001b[0m\u001b[0mtrain_test_split\u001b[0m\u001b[0;34m(\u001b[0m\u001b[0mdataset\u001b[0m\u001b[0;34m,\u001b[0m\u001b[0mimages_labels\u001b[0m\u001b[0;34m,\u001b[0m\u001b[0mtest_size\u001b[0m\u001b[0;34m=\u001b[0m\u001b[0;36m0.3\u001b[0m\u001b[0;34m)\u001b[0m\u001b[0;34m\u001b[0m\u001b[0;34m\u001b[0m\u001b[0m\n\u001b[0m",
      "\u001b[0;31mNameError\u001b[0m: name 'dataset' is not defined"
     ]
    }
   ],
   "source": [
    "X_train,X_test,y_train,y_test=train_test_split(dataset,images_labels,test_size=0.3)"
   ]
  },
  {
   "cell_type": "markdown",
   "metadata": {},
   "source": [
    "#### Function to convert to TFRecords"
   ]
  },
  {
   "cell_type": "code",
   "execution_count": null,
   "metadata": {},
   "outputs": [],
   "source": [
    "def convert_to_tfrecord(images,labels,num_examples,name,directory):\n",
    "    \n",
    "    def _int64_feature(value):\n",
    "        return tf.train.Feature(int64_list=tf.train.Int64List(value=[value]))\n",
    "    \n",
    "    def _bytes_feature(value):\n",
    "        return tf.train.Feature(bytes_list=tf.train.BytesList(value=[value]))\n",
    "    \n",
    "    if images.shape[0] != num_examples:\n",
    "        raise ValueError('Images size %d doesnot match with label size %d',%(images.shape[0],num_examples))\n",
    "    "
   ]
  }
 ],
 "metadata": {
  "kernelspec": {
   "display_name": "conda_amazonei_tensorflow_p36",
   "language": "python",
   "name": "conda_amazonei_tensorflow_p36"
  },
  "language_info": {
   "codemirror_mode": {
    "name": "ipython",
    "version": 3
   },
   "file_extension": ".py",
   "mimetype": "text/x-python",
   "name": "python",
   "nbconvert_exporter": "python",
   "pygments_lexer": "ipython3",
   "version": "3.6.10"
  }
 },
 "nbformat": 4,
 "nbformat_minor": 4
}
